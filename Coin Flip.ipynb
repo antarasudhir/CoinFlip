{
 "cells": [
  {
   "cell_type": "markdown",
   "id": "8f25dd2d",
   "metadata": {},
   "source": [
    "# Coin Flip"
   ]
  },
  {
   "cell_type": "markdown",
   "id": "141443e5",
   "metadata": {},
   "source": [
    "- The first code is a simple one that prints either Heads or Tails when the function is called.\n",
    "- For example, when the code was run, it displayed 'Tails' as the outcome.\n",
    "- This code can be called again and again by running 'print(flip())."
   ]
  },
  {
   "cell_type": "code",
   "execution_count": 15,
   "id": "9795face",
   "metadata": {},
   "outputs": [
    {
     "name": "stdout",
     "output_type": "stream",
     "text": [
      "Tails\n"
     ]
    }
   ],
   "source": [
    "import random\n",
    "\n",
    "def flip():\n",
    "    return random.choice(['Heads', 'Tails'])\n",
    "\n",
    "print(flip())"
   ]
  },
  {
   "cell_type": "markdown",
   "id": "e1ff7a20",
   "metadata": {},
   "source": [
    "- The second code is a bit more complex.\n",
    "- To make the code work, the user must run the 'flip(times)' and replace 'times' with the number of times they would like the coin to flip.\n",
    "- The result will be each outcome and the number of times each outcome was displayed.\n",
    "- The code has been run once to help demonstrate what would be displayed."
   ]
  },
  {
   "cell_type": "code",
   "execution_count": 16,
   "id": "f7528e3a",
   "metadata": {},
   "outputs": [],
   "source": [
    "import random\n",
    "\n",
    "def flip(times):\n",
    "    heads = 0\n",
    "    tails = 0\n",
    "    for x in range(times):\n",
    "        i = random.choice([0,1])\n",
    "        if i == 0:\n",
    "            heads += 1\n",
    "            print('Heads')\n",
    "        else:\n",
    "            tails += 1\n",
    "            print('Tails')\n",
    "            \n",
    "    print('Heads: '+str(heads))\n",
    "    print('Tails: '+str(tails))"
   ]
  },
  {
   "cell_type": "code",
   "execution_count": 17,
   "id": "ec0b3726",
   "metadata": {},
   "outputs": [
    {
     "name": "stdout",
     "output_type": "stream",
     "text": [
      "Tails\n",
      "Tails\n",
      "Heads\n",
      "Tails\n",
      "Heads: 1\n",
      "Tails: 3\n"
     ]
    }
   ],
   "source": [
    "flip(4)"
   ]
  }
 ],
 "metadata": {
  "kernelspec": {
   "display_name": "Python 3 (ipykernel)",
   "language": "python",
   "name": "python3"
  },
  "language_info": {
   "codemirror_mode": {
    "name": "ipython",
    "version": 3
   },
   "file_extension": ".py",
   "mimetype": "text/x-python",
   "name": "python",
   "nbconvert_exporter": "python",
   "pygments_lexer": "ipython3",
   "version": "3.11.4"
  }
 },
 "nbformat": 4,
 "nbformat_minor": 5
}
